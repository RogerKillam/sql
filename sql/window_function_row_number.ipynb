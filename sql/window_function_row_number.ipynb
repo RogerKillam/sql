{
    "cells": [
        {
            "cell_type": "markdown",
            "metadata": {
                "azdata_cell_guid": "9ca19177-a0fa-4082-8bfa-a1f3ef7b7395",
                "extensions": {
                    "azuredatastudio": {
                        "views": []
                    }
                }
            },
            "source": [
                "# Window Functions: Ranking Functions\n",
                "\n",
                "Reference [Introduction to T-SQL Window Functions - Simple Talk (red-gate.com)](https://www.red-gate.com/simple-talk/sql/t-sql-programming/introduction-to-t-sql-window-functions/)  \n",
                "\n",
                "### ROW\\_NUMBER  \n",
                "\n",
                "One benefit of ROW\\_NUMBER is the ability to turn non-unique rows into unique rows. This could be used to eliminate duplicate rows, for example."
            ]
        },
        {
            "cell_type": "code",
            "execution_count": null,
            "metadata": {
                "azdata_cell_guid": "e181449d-66f4-4428-8aa9-50fd636c7f86",
                "extensions": {
                    "azuredatastudio": {
                        "views": []
                    }
                }
            },
            "outputs": [],
            "source": [
                "CREATE TABLE #Duplicates (Col1 INT, Col2 CHAR(1));\n",
                "\n",
                "INSERT INTO #Duplicates (Col1, Col2)\n",
                "VALUES (1, 'A'), (2, 'B'), (2, 'B'), (2, 'B'), (3, 'C'), (4, 'D'), (4, 'D'), (5, 'E'), (5, 'E'), (5, 'E');\n",
                "\n",
                "SELECT *\n",
                "FROM #Duplicates;"
            ]
        },
        {
            "cell_type": "markdown",
            "metadata": {
                "azdata_cell_guid": "48996cfc-a688-4d6a-a97c-969ec5eb0241",
                "extensions": {
                    "azuredatastudio": {
                        "views": []
                    }
                }
            },
            "source": [
                "Adding ROW\\_NUMBER and partitioning by each column will restart the row numbers for each unique set of rows. You can identify the unique rows by finding those with a row number equal to one."
            ]
        },
        {
            "cell_type": "code",
            "execution_count": null,
            "metadata": {
                "azdata_cell_guid": "dd050b21-f7b3-492b-bb91-16990eba8812",
                "extensions": {
                    "azuredatastudio": {
                        "views": []
                    }
                }
            },
            "outputs": [],
            "source": [
                "DELETE T\n",
                "FROM\n",
                "(\n",
                "    SELECT *\n",
                "    , DupRank = ROW_NUMBER() OVER (\n",
                "                PARTITION BY key_value\n",
                "                ORDER BY (SELECT NULL)\n",
                "                )\n",
                "    FROM original_table\n",
                ") AS T\n",
                "WHERE DupRank > 1;\n",
                "GO"
            ]
        },
        {
            "cell_type": "markdown",
            "metadata": {
                "azdata_cell_guid": "9f7521ad-e63d-438f-a13a-168a5fac7836",
                "extensions": {
                    "azuredatastudio": {
                        "views": []
                    }
                }
            },
            "source": [
                "Now, all you have to do is to delete any rows that have a row number greater than one. To do this, you must delete the rows from a CTE as you cannot add window functions to a WHERE clause."
            ]
        },
        {
            "cell_type": "code",
            "execution_count": null,
            "metadata": {
                "azdata_cell_guid": "2447995a-4168-46dc-aaf7-f0a51bba7554",
                "extensions": {
                    "azuredatastudio": {
                        "views": []
                    }
                }
            },
            "outputs": [],
            "source": [
                "WITH Dupes\n",
                "AS (\n",
                "    SELECT Col1\n",
                "        , Col2\n",
                "        , ROW_NUMBER() OVER (\n",
                "            PARTITION BY Col1\n",
                "            , Col2 ORDER BY Col1\n",
                "            ) AS RowNum\n",
                "    FROM #Duplicates\n",
                "    )\n",
                "DELETE Dupes\n",
                "WHERE RowNum <> 1;\n",
                "\n",
                "SELECT *\n",
                "FROM #Duplicates;\n"
            ]
        },
        {
            "cell_type": "markdown",
            "metadata": {
                "azdata_cell_guid": "be51e921-a1c3-490c-9231-793ec3397087",
                "extensions": {
                    "azuredatastudio": {
                        "views": []
                    }
                }
            },
            "source": [
                "A WHERE clause can also be used to view _n_ nmber of duplicate records from within a set."
            ]
        },
        {
            "cell_type": "code",
            "execution_count": null,
            "metadata": {
                "azdata_cell_guid": "e82baa4a-aff2-4668-93e2-a98cb5bc5225",
                "extensions": {
                    "azuredatastudio": {
                        "views": []
                    }
                }
            },
            "outputs": [],
            "source": [
                "WITH Dupes\n",
                "AS (\n",
                "    SELECT Col1\n",
                "        , Col2\n",
                "        , ROW_NUMBER() OVER (\n",
                "            PARTITION BY Col1\n",
                "            , Col2 ORDER BY Col1\n",
                "            ) AS RowNum\n",
                "    FROM #Duplicates\n",
                "    )\n",
                "SELECT *\n",
                "FROM Dupes\n",
                "WHERE RowNum <= 3;\n"
            ]
        }
    ],
    "metadata": {
        "extensions": {
            "azuredatastudio": {
                "version": 1,
                "views": []
            }
        },
        "kernelspec": {
            "display_name": "SQL",
            "language": "sql",
            "name": "SQL"
        },
        "language_info": {
            "name": "sql",
            "version": ""
        }
    },
    "nbformat": 4,
    "nbformat_minor": 2
}
